{
 "cells": [
  {
   "cell_type": "code",
   "execution_count": 2,
   "metadata": {},
   "outputs": [],
   "source": [
    "import tensorflow as tf\n",
    "from tensorflow.keras import models, Sequential\n",
    "from tensorflow.keras.layers import Dense, Conv2D, MaxPooling2D, Flatten\n",
    "from tensorflow.keras.optimizers import Adam\n",
    "import os"
   ]
  },
  {
   "cell_type": "code",
   "execution_count": 3,
   "metadata": {},
   "outputs": [],
   "source": [
    "base_dir='intel_dataset'\n",
    "train_dir= os.path.join(base_dir,'seg_train/seg_train')\n",
    "test_dir= os .path.join(base_dir,'seg_test/seg_test')"
   ]
  },
  {
   "cell_type": "code",
   "execution_count": 4,
   "metadata": {},
   "outputs": [],
   "source": [
    "from tensorflow.keras.preprocessing.image import ImageDataGenerator\n"
   ]
  },
  {
   "cell_type": "code",
   "execution_count": 5,
   "metadata": {},
   "outputs": [],
   "source": [
    "train_datagen=ImageDataGenerator(rescale=1./255,validation_split=0.2)\n",
    "test_datagen=ImageDataGenerator(rescale=1./255)"
   ]
  },
  {
   "cell_type": "code",
   "execution_count": 8,
   "metadata": {},
   "outputs": [
    {
     "name": "stdout",
     "output_type": "stream",
     "text": [
      "Found 11230 images belonging to 6 classes.\n"
     ]
    }
   ],
   "source": [
    "train_generator=train_datagen.flow_from_directory(\n",
    "    train_dir,\n",
    "    target_size=(150,150),\n",
    "    batch_size=32,\n",
    "    class_mode='categorical',\n",
    "    subset='training'\n",
    ")"
   ]
  },
  {
   "cell_type": "code",
   "execution_count": 9,
   "metadata": {},
   "outputs": [
    {
     "name": "stdout",
     "output_type": "stream",
     "text": [
      "Found 2804 images belonging to 6 classes.\n"
     ]
    }
   ],
   "source": [
    "validation_generator=train_datagen.flow_from_directory(\n",
    "    train_dir,\n",
    "    target_size=(150,150),\n",
    "    batch_size=32,\n",
    "    class_mode='categorical',\n",
    "    subset='validation'\n",
    ")"
   ]
  },
  {
   "cell_type": "code",
   "execution_count": 10,
   "metadata": {},
   "outputs": [
    {
     "name": "stdout",
     "output_type": "stream",
     "text": [
      "Found 3000 images belonging to 6 classes.\n"
     ]
    }
   ],
   "source": [
    "test_generator=train_datagen.flow_from_directory(\n",
    "    test_dir,\n",
    "    target_size=(150,150),\n",
    "    batch_size=32,\n",
    "    class_mode='categorical'\n",
    ")"
   ]
  },
  {
   "cell_type": "code",
   "execution_count": 11,
   "metadata": {},
   "outputs": [
    {
     "name": "stdout",
     "output_type": "stream",
     "text": [
      "Model: \"sequential\"\n",
      "_________________________________________________________________\n",
      " Layer (type)                Output Shape              Param #   \n",
      "=================================================================\n",
      " conv2d (Conv2D)             (None, 148, 148, 32)      896       \n",
      "                                                                 \n",
      " max_pooling2d (MaxPooling2D  (None, 74, 74, 32)       0         \n",
      " )                                                               \n",
      "                                                                 \n",
      " conv2d_1 (Conv2D)           (None, 72, 72, 64)        18496     \n",
      "                                                                 \n",
      " max_pooling2d_1 (MaxPooling  (None, 36, 36, 64)       0         \n",
      " 2D)                                                             \n",
      "                                                                 \n",
      " conv2d_2 (Conv2D)           (None, 34, 34, 128)       73856     \n",
      "                                                                 \n",
      " max_pooling2d_2 (MaxPooling  (None, 17, 17, 128)      0         \n",
      " 2D)                                                             \n",
      "                                                                 \n",
      " conv2d_3 (Conv2D)           (None, 15, 15, 128)       147584    \n",
      "                                                                 \n",
      " max_pooling2d_3 (MaxPooling  (None, 7, 7, 128)        0         \n",
      " 2D)                                                             \n",
      "                                                                 \n",
      " flatten (Flatten)           (None, 6272)              0         \n",
      "                                                                 \n",
      " dense (Dense)               (None, 128)               802944    \n",
      "                                                                 \n",
      " dense_1 (Dense)             (None, 6)                 774       \n",
      "                                                                 \n",
      "=================================================================\n",
      "Total params: 1,044,550\n",
      "Trainable params: 1,044,550\n",
      "Non-trainable params: 0\n",
      "_________________________________________________________________\n"
     ]
    }
   ],
   "source": [
    "model = Sequential()\n",
    "\n",
    "model.add(Conv2D(32, (3, 3), activation='relu',input_shape=(150, 150, 3)))\n",
    "\n",
    "model.add(MaxPooling2D((2, 2)))\n",
    "\n",
    "model.add(Conv2D(64, (3, 3), activation='relu'))\n",
    "model.add(MaxPooling2D((2, 2)))\n",
    "\n",
    "model.add(Conv2D(128, (3, 3), activation='relu'))\n",
    "model.add(MaxPooling2D((2, 2)))\n",
    "\n",
    "model.add(Conv2D(128, (3, 3), activation='relu'))\n",
    "model.add(MaxPooling2D((2, 2)))\n",
    "\n",
    "model.add(Flatten())\n",
    "\n",
    "model.add(Dense(128, activation='relu'))\n",
    "\n",
    "model.add(Dense(6, activation='softmax'))\n",
    "\n",
    "model.summary()"
   ]
  },
  {
   "cell_type": "code",
   "execution_count": 13,
   "metadata": {},
   "outputs": [],
   "source": [
    "optimizer=Adam(learning_rate=0.0002)"
   ]
  },
  {
   "cell_type": "code",
   "execution_count": 14,
   "metadata": {},
   "outputs": [],
   "source": [
    "model.compile(optimizer=optimizer,loss='categorical_crossentropy',metrics=['accuracy'])"
   ]
  },
  {
   "cell_type": "code",
   "execution_count": 15,
   "metadata": {},
   "outputs": [
    {
     "name": "stdout",
     "output_type": "stream",
     "text": [
      "Epoch 1/20\n",
      "100/100 [==============================] - 38s 372ms/step - loss: 1.3237 - accuracy: 0.4753 - val_loss: 1.1305 - val_accuracy: 0.5391\n",
      "Epoch 2/20\n",
      "100/100 [==============================] - 32s 316ms/step - loss: 1.0436 - accuracy: 0.5941 - val_loss: 1.0574 - val_accuracy: 0.5688\n",
      "Epoch 3/20\n",
      "100/100 [==============================] - 30s 295ms/step - loss: 0.9525 - accuracy: 0.6351 - val_loss: 0.9000 - val_accuracy: 0.6469\n",
      "Epoch 4/20\n",
      "100/100 [==============================] - 29s 292ms/step - loss: 0.8765 - accuracy: 0.6575 - val_loss: 0.8015 - val_accuracy: 0.6891\n",
      "Epoch 5/20\n",
      "100/100 [==============================] - 28s 284ms/step - loss: 0.8161 - accuracy: 0.6941 - val_loss: 0.7873 - val_accuracy: 0.7031\n",
      "Epoch 6/20\n",
      "100/100 [==============================] - 29s 285ms/step - loss: 0.7657 - accuracy: 0.7067 - val_loss: 0.6840 - val_accuracy: 0.7422\n",
      "Epoch 7/20\n",
      "100/100 [==============================] - 28s 275ms/step - loss: 0.7277 - accuracy: 0.7319 - val_loss: 0.6753 - val_accuracy: 0.7453\n",
      "Epoch 8/20\n",
      "100/100 [==============================] - 26s 264ms/step - loss: 0.6699 - accuracy: 0.7487 - val_loss: 0.7069 - val_accuracy: 0.7656\n",
      "Epoch 9/20\n",
      "100/100 [==============================] - 27s 265ms/step - loss: 0.6548 - accuracy: 0.7527 - val_loss: 0.6934 - val_accuracy: 0.7563\n",
      "Epoch 10/20\n",
      "100/100 [==============================] - 27s 270ms/step - loss: 0.6131 - accuracy: 0.7750 - val_loss: 0.5621 - val_accuracy: 0.7875\n",
      "Epoch 11/20\n",
      "100/100 [==============================] - 26s 261ms/step - loss: 0.6018 - accuracy: 0.7821 - val_loss: 0.6301 - val_accuracy: 0.7766\n",
      "Epoch 12/20\n",
      "100/100 [==============================] - 26s 260ms/step - loss: 0.5676 - accuracy: 0.7861 - val_loss: 0.7564 - val_accuracy: 0.7031\n",
      "Epoch 13/20\n",
      "100/100 [==============================] - 26s 261ms/step - loss: 0.5652 - accuracy: 0.7952 - val_loss: 0.5946 - val_accuracy: 0.7875\n",
      "Epoch 14/20\n",
      "100/100 [==============================] - 25s 254ms/step - loss: 0.5414 - accuracy: 0.8050 - val_loss: 0.5358 - val_accuracy: 0.8031\n",
      "Epoch 15/20\n",
      "100/100 [==============================] - 28s 279ms/step - loss: 0.5444 - accuracy: 0.8131 - val_loss: 0.6097 - val_accuracy: 0.7922\n",
      "Epoch 16/20\n",
      "100/100 [==============================] - 27s 268ms/step - loss: 0.5089 - accuracy: 0.8166 - val_loss: 0.5856 - val_accuracy: 0.7922\n",
      "Epoch 17/20\n",
      "100/100 [==============================] - 26s 255ms/step - loss: 0.5064 - accuracy: 0.8172 - val_loss: 0.5604 - val_accuracy: 0.7797\n",
      "Epoch 18/20\n",
      "100/100 [==============================] - 26s 256ms/step - loss: 0.4943 - accuracy: 0.8263 - val_loss: 0.4844 - val_accuracy: 0.8266\n",
      "Epoch 19/20\n",
      "100/100 [==============================] - 26s 259ms/step - loss: 0.4733 - accuracy: 0.8331 - val_loss: 0.5141 - val_accuracy: 0.8359\n",
      "Epoch 20/20\n",
      "100/100 [==============================] - 26s 257ms/step - loss: 0.4602 - accuracy: 0.8353 - val_loss: 0.5516 - val_accuracy: 0.7906\n"
     ]
    },
    {
     "data": {
      "text/plain": [
       "<keras.callbacks.History at 0x1cbe90e3970>"
      ]
     },
     "execution_count": 15,
     "metadata": {},
     "output_type": "execute_result"
    }
   ],
   "source": [
    "model.fit(\n",
    "    train_generator,\n",
    "    steps_per_epoch=100,\n",
    "    epochs = 20,\n",
    "    validation_data = validation_generator,\n",
    "    validation_steps = 20\n",
    ")"
   ]
  },
  {
   "cell_type": "code",
   "execution_count": 16,
   "metadata": {},
   "outputs": [
    {
     "name": "stdout",
     "output_type": "stream",
     "text": [
      "94/94 [==============================] - 16s 174ms/step - loss: 0.5397 - accuracy: 0.8077\n",
      "accuracy of the model : 0.8076666593551636\n"
     ]
    }
   ],
   "source": [
    "_, accuracy = model.evaluate(test_generator)\n",
    "\n",
    "print(f'accuracy of the model : {accuracy}')"
   ]
  },
  {
   "cell_type": "code",
   "execution_count": 17,
   "metadata": {},
   "outputs": [],
   "source": [
    "from tensorflow.keras.applications import VGG16\n",
    "base_model = VGG16(\n",
    "    weights='imagenet',\n",
    "    include_top = True,\n",
    "    input_shape = (224, 224, 3)\n",
    ")"
   ]
  },
  {
   "cell_type": "code",
   "execution_count": 18,
   "metadata": {},
   "outputs": [
    {
     "name": "stdout",
     "output_type": "stream",
     "text": [
      "Model: \"vgg16\"\n",
      "_________________________________________________________________\n",
      " Layer (type)                Output Shape              Param #   \n",
      "=================================================================\n",
      " input_1 (InputLayer)        [(None, 224, 224, 3)]     0         \n",
      "                                                                 \n",
      " block1_conv1 (Conv2D)       (None, 224, 224, 64)      1792      \n",
      "                                                                 \n",
      " block1_conv2 (Conv2D)       (None, 224, 224, 64)      36928     \n",
      "                                                                 \n",
      " block1_pool (MaxPooling2D)  (None, 112, 112, 64)      0         \n",
      "                                                                 \n",
      " block2_conv1 (Conv2D)       (None, 112, 112, 128)     73856     \n",
      "                                                                 \n",
      " block2_conv2 (Conv2D)       (None, 112, 112, 128)     147584    \n",
      "                                                                 \n",
      " block2_pool (MaxPooling2D)  (None, 56, 56, 128)       0         \n",
      "                                                                 \n",
      " block3_conv1 (Conv2D)       (None, 56, 56, 256)       295168    \n",
      "                                                                 \n",
      " block3_conv2 (Conv2D)       (None, 56, 56, 256)       590080    \n",
      "                                                                 \n",
      " block3_conv3 (Conv2D)       (None, 56, 56, 256)       590080    \n",
      "                                                                 \n",
      " block3_pool (MaxPooling2D)  (None, 28, 28, 256)       0         \n",
      "                                                                 \n",
      " block4_conv1 (Conv2D)       (None, 28, 28, 512)       1180160   \n",
      "                                                                 \n",
      " block4_conv2 (Conv2D)       (None, 28, 28, 512)       2359808   \n",
      "                                                                 \n",
      " block4_conv3 (Conv2D)       (None, 28, 28, 512)       2359808   \n",
      "                                                                 \n",
      " block4_pool (MaxPooling2D)  (None, 14, 14, 512)       0         \n",
      "                                                                 \n",
      " block5_conv1 (Conv2D)       (None, 14, 14, 512)       2359808   \n",
      "                                                                 \n",
      " block5_conv2 (Conv2D)       (None, 14, 14, 512)       2359808   \n",
      "                                                                 \n",
      " block5_conv3 (Conv2D)       (None, 14, 14, 512)       2359808   \n",
      "                                                                 \n",
      " block5_pool (MaxPooling2D)  (None, 7, 7, 512)         0         \n",
      "                                                                 \n",
      " flatten (Flatten)           (None, 25088)             0         \n",
      "                                                                 \n",
      " fc1 (Dense)                 (None, 4096)              102764544 \n",
      "                                                                 \n",
      " fc2 (Dense)                 (None, 4096)              16781312  \n",
      "                                                                 \n",
      " predictions (Dense)         (None, 1000)              4097000   \n",
      "                                                                 \n",
      "=================================================================\n",
      "Total params: 138,357,544\n",
      "Trainable params: 138,357,544\n",
      "Non-trainable params: 0\n",
      "_________________________________________________________________\n"
     ]
    }
   ],
   "source": [
    "base_model.summary()"
   ]
  },
  {
   "cell_type": "code",
   "execution_count": 19,
   "metadata": {},
   "outputs": [],
   "source": [
    "img_path = 'intel_dataset/seg_test/seg_test/buildings/20057.jpg'"
   ]
  },
  {
   "cell_type": "code",
   "execution_count": 20,
   "metadata": {},
   "outputs": [],
   "source": [
    "from tensorflow.keras.preprocessing import image as keras_image\n",
    "\n",
    "img_test = keras_image.load_img(img_path, target_size=(224, 224))\n",
    "img_test = keras_image.img_to_array(img_test)"
   ]
  },
  {
   "cell_type": "code",
   "execution_count": 21,
   "metadata": {},
   "outputs": [
    {
     "data": {
      "text/plain": [
       "(224, 224, 3)"
      ]
     },
     "execution_count": 21,
     "metadata": {},
     "output_type": "execute_result"
    }
   ],
   "source": [
    "img_test.shape"
   ]
  },
  {
   "cell_type": "code",
   "execution_count": 23,
   "metadata": {},
   "outputs": [
    {
     "name": "stdout",
     "output_type": "stream",
     "text": [
      "1/1 [==============================] - 0s 218ms/step\n"
     ]
    }
   ],
   "source": [
    "prediction_test = base_model.predict(img_test.reshape(1, 224, 224, 3))"
   ]
  },
  {
   "cell_type": "code",
   "execution_count": 24,
   "metadata": {},
   "outputs": [
    {
     "data": {
      "text/plain": [
       "437"
      ]
     },
     "execution_count": 24,
     "metadata": {},
     "output_type": "execute_result"
    }
   ],
   "source": [
    "prediction_test.argmax()"
   ]
  },
  {
   "cell_type": "code",
   "execution_count": 26,
   "metadata": {},
   "outputs": [
    {
     "name": "stdout",
     "output_type": "stream",
     "text": [
      "Downloading data from https://storage.googleapis.com/tensorflow/keras-applications/vgg16/vgg16_weights_tf_dim_ordering_tf_kernels_notop.h5\n",
      "58889256/58889256 [==============================] - 26s 0us/step\n"
     ]
    }
   ],
   "source": [
    "from tensorflow.keras.applications import VGG16\n",
    "base_model = VGG16(\n",
    "    weights='imagenet',\n",
    "    include_top = False,\n",
    "    input_shape = (150, 150, 3)\n",
    ")"
   ]
  },
  {
   "cell_type": "code",
   "execution_count": 27,
   "metadata": {},
   "outputs": [
    {
     "name": "stdout",
     "output_type": "stream",
     "text": [
      "Model: \"vgg16\"\n",
      "_________________________________________________________________\n",
      " Layer (type)                Output Shape              Param #   \n",
      "=================================================================\n",
      " input_3 (InputLayer)        [(None, 150, 150, 3)]     0         \n",
      "                                                                 \n",
      " block1_conv1 (Conv2D)       (None, 150, 150, 64)      1792      \n",
      "                                                                 \n",
      " block1_conv2 (Conv2D)       (None, 150, 150, 64)      36928     \n",
      "                                                                 \n",
      " block1_pool (MaxPooling2D)  (None, 75, 75, 64)        0         \n",
      "                                                                 \n",
      " block2_conv1 (Conv2D)       (None, 75, 75, 128)       73856     \n",
      "                                                                 \n",
      " block2_conv2 (Conv2D)       (None, 75, 75, 128)       147584    \n",
      "                                                                 \n",
      " block2_pool (MaxPooling2D)  (None, 37, 37, 128)       0         \n",
      "                                                                 \n",
      " block3_conv1 (Conv2D)       (None, 37, 37, 256)       295168    \n",
      "                                                                 \n",
      " block3_conv2 (Conv2D)       (None, 37, 37, 256)       590080    \n",
      "                                                                 \n",
      " block3_conv3 (Conv2D)       (None, 37, 37, 256)       590080    \n",
      "                                                                 \n",
      " block3_pool (MaxPooling2D)  (None, 18, 18, 256)       0         \n",
      "                                                                 \n",
      " block4_conv1 (Conv2D)       (None, 18, 18, 512)       1180160   \n",
      "                                                                 \n",
      " block4_conv2 (Conv2D)       (None, 18, 18, 512)       2359808   \n",
      "                                                                 \n",
      " block4_conv3 (Conv2D)       (None, 18, 18, 512)       2359808   \n",
      "                                                                 \n",
      " block4_pool (MaxPooling2D)  (None, 9, 9, 512)         0         \n",
      "                                                                 \n",
      " block5_conv1 (Conv2D)       (None, 9, 9, 512)         2359808   \n",
      "                                                                 \n",
      " block5_conv2 (Conv2D)       (None, 9, 9, 512)         2359808   \n",
      "                                                                 \n",
      " block5_conv3 (Conv2D)       (None, 9, 9, 512)         2359808   \n",
      "                                                                 \n",
      " block5_pool (MaxPooling2D)  (None, 4, 4, 512)         0         \n",
      "                                                                 \n",
      "=================================================================\n",
      "Total params: 14,714,688\n",
      "Trainable params: 14,714,688\n",
      "Non-trainable params: 0\n",
      "_________________________________________________________________\n"
     ]
    }
   ],
   "source": [
    "base_model.summary()"
   ]
  },
  {
   "cell_type": "code",
   "execution_count": 28,
   "metadata": {},
   "outputs": [],
   "source": [
    "for layer in base_model.layers:\n",
    "    layer.trainable = False"
   ]
  },
  {
   "cell_type": "code",
   "execution_count": 29,
   "metadata": {},
   "outputs": [],
   "source": [
    "from tensorflow.keras.layers import GlobalAveragePooling2D\n",
    "from tensorflow.keras.layers import Dropout\n",
    "from tensorflow.keras import Model\n",
    "\n",
    "output_vgg = base_model.output\n",
    "global_avg_pooling = GlobalAveragePooling2D() (output_vgg)\n",
    "\n",
    "dense_1 = Dense(512, activation='relu', name='dense_1') (global_avg_pooling)\n",
    "# dropout_1 = Dropout(0.2, name='dropout_1') (dense_1)\n",
    "dense_2 = Dense(256, activation='relu', name='dense_2') (global_avg_pooling)\n",
    "dropout_2 = Dropout(0.2, name='dropout_2') (dense_2)\n",
    "output = Dense(6, activation='softmax', name='output') (dropout_2)\n",
    "\n",
    "transfer_model = Model(inputs=base_model.input , outputs= output)"
   ]
  },
  {
   "cell_type": "code",
   "execution_count": 30,
   "metadata": {},
   "outputs": [
    {
     "name": "stdout",
     "output_type": "stream",
     "text": [
      "Model: \"model\"\n",
      "_________________________________________________________________\n",
      " Layer (type)                Output Shape              Param #   \n",
      "=================================================================\n",
      " input_3 (InputLayer)        [(None, 150, 150, 3)]     0         \n",
      "                                                                 \n",
      " block1_conv1 (Conv2D)       (None, 150, 150, 64)      1792      \n",
      "                                                                 \n",
      " block1_conv2 (Conv2D)       (None, 150, 150, 64)      36928     \n",
      "                                                                 \n",
      " block1_pool (MaxPooling2D)  (None, 75, 75, 64)        0         \n",
      "                                                                 \n",
      " block2_conv1 (Conv2D)       (None, 75, 75, 128)       73856     \n",
      "                                                                 \n",
      " block2_conv2 (Conv2D)       (None, 75, 75, 128)       147584    \n",
      "                                                                 \n",
      " block2_pool (MaxPooling2D)  (None, 37, 37, 128)       0         \n",
      "                                                                 \n",
      " block3_conv1 (Conv2D)       (None, 37, 37, 256)       295168    \n",
      "                                                                 \n",
      " block3_conv2 (Conv2D)       (None, 37, 37, 256)       590080    \n",
      "                                                                 \n",
      " block3_conv3 (Conv2D)       (None, 37, 37, 256)       590080    \n",
      "                                                                 \n",
      " block3_pool (MaxPooling2D)  (None, 18, 18, 256)       0         \n",
      "                                                                 \n",
      " block4_conv1 (Conv2D)       (None, 18, 18, 512)       1180160   \n",
      "                                                                 \n",
      " block4_conv2 (Conv2D)       (None, 18, 18, 512)       2359808   \n",
      "                                                                 \n",
      " block4_conv3 (Conv2D)       (None, 18, 18, 512)       2359808   \n",
      "                                                                 \n",
      " block4_pool (MaxPooling2D)  (None, 9, 9, 512)         0         \n",
      "                                                                 \n",
      " block5_conv1 (Conv2D)       (None, 9, 9, 512)         2359808   \n",
      "                                                                 \n",
      " block5_conv2 (Conv2D)       (None, 9, 9, 512)         2359808   \n",
      "                                                                 \n",
      " block5_conv3 (Conv2D)       (None, 9, 9, 512)         2359808   \n",
      "                                                                 \n",
      " block5_pool (MaxPooling2D)  (None, 4, 4, 512)         0         \n",
      "                                                                 \n",
      " global_average_pooling2d (G  (None, 512)              0         \n",
      " lobalAveragePooling2D)                                          \n",
      "                                                                 \n",
      " dense_2 (Dense)             (None, 256)               131328    \n",
      "                                                                 \n",
      " dropout_2 (Dropout)         (None, 256)               0         \n",
      "                                                                 \n",
      " output (Dense)              (None, 6)                 1542      \n",
      "                                                                 \n",
      "=================================================================\n",
      "Total params: 14,847,558\n",
      "Trainable params: 132,870\n",
      "Non-trainable params: 14,714,688\n",
      "_________________________________________________________________\n"
     ]
    }
   ],
   "source": [
    "transfer_model.summary()"
   ]
  },
  {
   "cell_type": "code",
   "execution_count": 31,
   "metadata": {},
   "outputs": [],
   "source": [
    "# Compiler le modèle\n",
    "optimizer = Adam(learning_rate=0.002)\n",
    "\n",
    "\n",
    "transfer_model.compile(optimizer=optimizer,\n",
    "              loss='categorical_crossentropy',\n",
    "              metrics=['accuracy'])"
   ]
  },
  {
   "cell_type": "code",
   "execution_count": 32,
   "metadata": {},
   "outputs": [
    {
     "name": "stdout",
     "output_type": "stream",
     "text": [
      "Epoch 1/20\n",
      "200/200 [==============================] - 125s 620ms/step - loss: 0.6125 - accuracy: 0.7669 - val_loss: 0.5048 - val_accuracy: 0.8062\n",
      "Epoch 2/20\n",
      "200/200 [==============================] - 124s 618ms/step - loss: 0.4354 - accuracy: 0.8343 - val_loss: 0.3781 - val_accuracy: 0.8687\n",
      "Epoch 3/20\n",
      "200/200 [==============================] - 126s 628ms/step - loss: 0.4014 - accuracy: 0.8512 - val_loss: 0.3696 - val_accuracy: 0.8484\n",
      "Epoch 4/20\n",
      "200/200 [==============================] - 125s 623ms/step - loss: 0.3683 - accuracy: 0.8606 - val_loss: 0.3545 - val_accuracy: 0.8609\n",
      "Epoch 5/20\n",
      "200/200 [==============================] - 123s 616ms/step - loss: 0.3637 - accuracy: 0.8648 - val_loss: 0.3659 - val_accuracy: 0.8656\n",
      "Epoch 6/20\n",
      "200/200 [==============================] - 123s 617ms/step - loss: 0.3421 - accuracy: 0.8720 - val_loss: 0.3998 - val_accuracy: 0.8422\n",
      "Epoch 7/20\n",
      "200/200 [==============================] - 123s 617ms/step - loss: 0.3295 - accuracy: 0.8795 - val_loss: 0.3552 - val_accuracy: 0.8781\n",
      "Epoch 8/20\n",
      "200/200 [==============================] - 125s 627ms/step - loss: 0.3148 - accuracy: 0.8812 - val_loss: 0.3478 - val_accuracy: 0.8813\n",
      "Epoch 9/20\n",
      "200/200 [==============================] - 123s 616ms/step - loss: 0.3182 - accuracy: 0.8807 - val_loss: 0.3232 - val_accuracy: 0.8891\n",
      "Epoch 10/20\n",
      "200/200 [==============================] - 123s 617ms/step - loss: 0.3032 - accuracy: 0.8850 - val_loss: 0.3503 - val_accuracy: 0.8641\n",
      "Epoch 11/20\n",
      "200/200 [==============================] - 123s 616ms/step - loss: 0.2988 - accuracy: 0.8889 - val_loss: 0.3513 - val_accuracy: 0.8719\n",
      "Epoch 12/20\n",
      "200/200 [==============================] - 123s 615ms/step - loss: 0.2945 - accuracy: 0.8890 - val_loss: 0.3185 - val_accuracy: 0.8781\n",
      "Epoch 13/20\n",
      "200/200 [==============================] - 123s 616ms/step - loss: 0.2849 - accuracy: 0.8919 - val_loss: 0.4289 - val_accuracy: 0.8313\n",
      "Epoch 14/20\n",
      "200/200 [==============================] - 123s 617ms/step - loss: 0.2764 - accuracy: 0.8959 - val_loss: 0.3331 - val_accuracy: 0.8891\n",
      "Epoch 15/20\n",
      "200/200 [==============================] - 124s 622ms/step - loss: 0.2596 - accuracy: 0.9019 - val_loss: 0.3277 - val_accuracy: 0.8766\n",
      "Epoch 16/20\n",
      "200/200 [==============================] - 123s 615ms/step - loss: 0.2589 - accuracy: 0.9011 - val_loss: 0.3337 - val_accuracy: 0.8891\n",
      "Epoch 17/20\n",
      "200/200 [==============================] - 124s 618ms/step - loss: 0.2632 - accuracy: 0.9029 - val_loss: 0.3443 - val_accuracy: 0.8734\n",
      "Epoch 18/20\n",
      "200/200 [==============================] - 123s 617ms/step - loss: 0.2542 - accuracy: 0.9061 - val_loss: 0.3454 - val_accuracy: 0.8672\n",
      "Epoch 19/20\n",
      "200/200 [==============================] - 127s 637ms/step - loss: 0.2348 - accuracy: 0.9094 - val_loss: 0.3934 - val_accuracy: 0.8766\n",
      "Epoch 20/20\n",
      "200/200 [==============================] - 127s 633ms/step - loss: 0.2449 - accuracy: 0.9084 - val_loss: 0.3069 - val_accuracy: 0.8844\n"
     ]
    },
    {
     "data": {
      "text/plain": [
       "<keras.callbacks.History at 0x1cbec7b3ee0>"
      ]
     },
     "execution_count": 32,
     "metadata": {},
     "output_type": "execute_result"
    }
   ],
   "source": [
    "transfer_model.fit(\n",
    "    train_generator,\n",
    "    steps_per_epoch = 200,\n",
    "    epochs = 20,\n",
    "    validation_data = validation_generator,\n",
    "    validation_steps = 20\n",
    ")"
   ]
  },
  {
   "cell_type": "code",
   "execution_count": null,
   "metadata": {},
   "outputs": [],
   "source": []
  }
 ],
 "metadata": {
  "kernelspec": {
   "display_name": "Python 3",
   "language": "python",
   "name": "python3"
  },
  "language_info": {
   "codemirror_mode": {
    "name": "ipython",
    "version": 3
   },
   "file_extension": ".py",
   "mimetype": "text/x-python",
   "name": "python",
   "nbconvert_exporter": "python",
   "pygments_lexer": "ipython3",
   "version": "3.9.0"
  }
 },
 "nbformat": 4,
 "nbformat_minor": 2
}
